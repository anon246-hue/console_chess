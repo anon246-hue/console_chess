{
 "cells": [
  {
   "cell_type": "markdown",
   "metadata": {},
   "source": [
    "### Console Chess\n",
    "- Do you want to play a game\n",
    "- initialize class\n",
    "- take turns by inputting current position and target position\n",
    "- app will validate moves/captures\n",
    "- not sophisitacted enough for nuances like castling and check detection\n",
    "- can see log of moves and captured pieces"
   ]
  },
  {
   "cell_type": "code",
   "execution_count": 1,
   "metadata": {},
   "outputs": [
    {
     "name": "stdout",
     "output_type": "stream",
     "text": [
      "\n",
      "  a b c d e f g h\n",
      "  ---------------\n",
      "8 R N B Q K B N R 8\n",
      "7 p p p p p p p p 7\n",
      "6 . . . . . . . . 6\n",
      "5 . . . . . . . . 5\n",
      "4 . . . . . . . . 4\n",
      "3 . . . . . . . . 3\n",
      "2 p p p p p p p p 2\n",
      "1 R N B Q K B N R 1\n",
      "  ---------------\n",
      "  a b c d e f g h\n",
      "\n"
     ]
    }
   ],
   "source": [
    "from chess import Chess,create_chess\n",
    "from initialize_board import ChessBoard,ChessPiece,initial_pieces\n",
    "import importlib\n",
    "import chess\n",
    "import initialize_board\n",
    "importlib.reload(chess)\n",
    "importlib.reload(initialize_board)\n",
    "\n",
    "x = create_chess(ChessBoard(pieces=initial_pieces))\n",
    "x.board.display()"
   ]
  },
  {
   "cell_type": "markdown",
   "metadata": {},
   "source": [
    "#### Mini Game"
   ]
  },
  {
   "cell_type": "code",
   "execution_count": null,
   "metadata": {},
   "outputs": [
    {
     "name": "stdout",
     "output_type": "stream",
     "text": [
      "\n",
      "  a b c d e f g h\n",
      "  ---------------\n",
      "8 R N B Q K B N R 8\n",
      "7 p p p p p p p p 7\n",
      "6 . . . . . . . . 6\n",
      "5 . . . . . . . . 5\n",
      "4 . . . . . . . . 4\n",
      "3 . . . . . . . . 3\n",
      "2 p p p p p p p p 2\n",
      "1 R N B Q K B N R 1\n",
      "  ---------------\n",
      "  a b c d e f g h\n",
      "\n",
      "white moved (1, 2) to (3, 2)\n",
      "\n",
      "\n",
      "  a b c d e f g h\n",
      "  ---------------\n",
      "8 R N B Q K B N R 8\n",
      "7 p p p p p p p p 7\n",
      "6 . . . . . . . . 6\n",
      "5 . . . . . . . . 5\n",
      "4 . . p . . . . . 4\n",
      "3 . . . . . . . . 3\n",
      "2 p p . p p p p p 2\n",
      "1 R N B Q K B N R 1\n",
      "  ---------------\n",
      "  a b c d e f g h\n",
      "\n",
      "It is blacks turn to move\n",
      "black moved (7, 1) to (5, 0)\n",
      "\n",
      "\n",
      "  a b c d e f g h\n",
      "  ---------------\n",
      "8 R . B Q K B N R 8\n",
      "7 p p p p p p p p 7\n",
      "6 N . . . . . . . 6\n",
      "5 . . . . . . . . 5\n",
      "4 . . p . . . . . 4\n",
      "3 . . . . . . . . 3\n",
      "2 p p . p p p p p 2\n",
      "1 R N B Q K B N R 1\n",
      "  ---------------\n",
      "  a b c d e f g h\n",
      "\n",
      "It is whites turn to move\n",
      "white moved (0, 3) to (3, 0)\n",
      "\n",
      "\n",
      "  a b c d e f g h\n",
      "  ---------------\n",
      "8 R . B Q K B N R 8\n",
      "7 p p p p p p p p 7\n",
      "6 N . . . . . . . 6\n",
      "5 . . . . . . . . 5\n",
      "4 Q . p . . . . . 4\n",
      "3 . . . . . . . . 3\n",
      "2 p p . p p p p p 2\n",
      "1 R N B . K B N R 1\n",
      "  ---------------\n",
      "  a b c d e f g h\n",
      "\n",
      "It is blacks turn to move\n",
      "black moved (6, 5) to (4, 5)\n",
      "\n",
      "\n",
      "  a b c d e f g h\n",
      "  ---------------\n",
      "8 R . B Q K B N R 8\n",
      "7 p p p p p . p p 7\n",
      "6 N . . . . . . . 6\n",
      "5 . . . . . p . . 5\n",
      "4 Q . p . . . . . 4\n",
      "3 . . . . . . . . 3\n",
      "2 p p . p p p p p 2\n",
      "1 R N B . K B N R 1\n",
      "  ---------------\n",
      "  a b c d e f g h\n",
      "\n",
      "It is whites turn to move\n",
      "white Captured (5, 0)\n",
      "white moved (3, 0) to (5, 0)\n",
      "\n",
      "\n",
      "  a b c d e f g h\n",
      "  ---------------\n",
      "8 R . B Q K B N R 8\n",
      "7 p p p p p . p p 7\n",
      "6 Q . . . . . . . 6\n",
      "5 . . . . . p . . 5\n",
      "4 . . p . . . . . 4\n",
      "3 . . . . . . . . 3\n",
      "2 p p . p p p p p 2\n",
      "1 R N B . K B N R 1\n",
      "  ---------------\n",
      "  a b c d e f g h\n",
      "\n",
      "It is blacks turn to move\n"
     ]
    },
    {
     "data": {
      "text/plain": [
       "[['white', (1, 2), (3, 2)],\n",
       " ['black', (7, 1), (5, 0)],\n",
       " ['white', (0, 3), (3, 0)],\n",
       " ['black', (6, 5), (4, 5)],\n",
       " ['white', (3, 0), (5, 0)]]"
      ]
     },
     "execution_count": 2,
     "metadata": {},
     "output_type": "execute_result"
    }
   ],
   "source": [
    "\n",
    "importlib.reload(chess)\n",
    "importlib.reload(initialize_board)\n",
    "\n",
    "x = create_chess(ChessBoard(pieces=initial_pieces))\n",
    "x.board.display()\n",
    "\n",
    "moves = [\n",
    "    [(1,2),(3,2)], #white pawn\n",
    "    [(7,1),(5,0)], #black knight\n",
    "    [(0,3),(3,0)], #white queen\n",
    "    [(6,5),(4,5)], #black pawn\n",
    "    [(3,0),(5,0)]#queen capture\n",
    "]\n",
    "for move in moves:\n",
    "    x.take_turn(move[0],move[1])\n",
    "    x.board.display()\n",
    "    x.whos_turn_is_it()\n",
    "    \n",
    "x.captured_pieces\n",
    "x.log"
   ]
  },
  {
   "cell_type": "markdown",
   "metadata": {},
   "source": [
    "#### Tests"
   ]
  },
  {
   "cell_type": "code",
   "execution_count": 3,
   "metadata": {},
   "outputs": [
    {
     "name": "stdout",
     "output_type": "stream",
     "text": [
      "move 1: (0, 0)\n",
      "True\n",
      "move 1: (10, 10)\n"
     ]
    },
    {
     "ename": "Exception",
     "evalue": "movement is off board",
     "output_type": "error",
     "traceback": [
      "\u001b[31m---------------------------------------------------------------------------\u001b[39m",
      "\u001b[31mException\u001b[39m                                 Traceback (most recent call last)",
      "\u001b[36mCell\u001b[39m\u001b[36m \u001b[39m\u001b[32mIn[3]\u001b[39m\u001b[32m, line 5\u001b[39m\n\u001b[32m      3\u001b[39m \u001b[38;5;28;01mfor\u001b[39;00m move \u001b[38;5;129;01min\u001b[39;00m moves:\n\u001b[32m      4\u001b[39m     \u001b[38;5;28mprint\u001b[39m(\u001b[33mf\u001b[39m\u001b[33m'\u001b[39m\u001b[33mmove 1: \u001b[39m\u001b[38;5;132;01m{\u001b[39;00mmove\u001b[38;5;132;01m}\u001b[39;00m\u001b[33m'\u001b[39m)\n\u001b[32m----> \u001b[39m\u001b[32m5\u001b[39m     check_bounds = \u001b[43mx\u001b[49m\u001b[43m.\u001b[49m\u001b[43mcheck_boundary\u001b[49m\u001b[43m(\u001b[49m\u001b[43mmove\u001b[49m\u001b[43m)\u001b[49m\n\u001b[32m      6\u001b[39m     \u001b[38;5;28mprint\u001b[39m(check_bounds)\n",
      "\u001b[36mFile \u001b[39m\u001b[32mc:\\Users\\craig\\github\\console_chess\\chess.py:21\u001b[39m, in \u001b[36mChess.check_boundary\u001b[39m\u001b[34m(self, new_position)\u001b[39m\n\u001b[32m     19\u001b[39m new_row = new_position[\u001b[32m1\u001b[39m]\n\u001b[32m     20\u001b[39m \u001b[38;5;28;01mif\u001b[39;00m new_col > \u001b[32m7\u001b[39m \u001b[38;5;129;01mor\u001b[39;00m new_col < \u001b[32m0\u001b[39m: \u001b[38;5;66;03m#check board boundaries\u001b[39;00m\n\u001b[32m---> \u001b[39m\u001b[32m21\u001b[39m     \u001b[38;5;28;01mraise\u001b[39;00m \u001b[38;5;167;01mException\u001b[39;00m(\u001b[33m\"\u001b[39m\u001b[33mmovement is off board\u001b[39m\u001b[33m\"\u001b[39m)\n\u001b[32m     22\u001b[39m \u001b[38;5;28;01mif\u001b[39;00m new_row > \u001b[32m7\u001b[39m \u001b[38;5;129;01mor\u001b[39;00m new_row < \u001b[32m0\u001b[39m:\n\u001b[32m     23\u001b[39m     \u001b[38;5;28;01mraise\u001b[39;00m \u001b[38;5;167;01mException\u001b[39;00m(\u001b[33m\"\u001b[39m\u001b[33mmovement is off board\u001b[39m\u001b[33m\"\u001b[39m)\n",
      "\u001b[31mException\u001b[39m: movement is off board"
     ]
    }
   ],
   "source": [
    "#are boundaries working, one pass one fail\n",
    "moves = [(0,0),(10,10)]\n",
    "for move in moves:\n",
    "    print(f'move 1: {move}')\n",
    "    check_bounds = x.check_boundary(move)\n",
    "    print(check_bounds)"
   ]
  },
  {
   "cell_type": "code",
   "execution_count": 4,
   "metadata": {},
   "outputs": [
    {
     "name": "stdout",
     "output_type": "stream",
     "text": [
      "move 1: (0, 0)\n"
     ]
    },
    {
     "ename": "Exception",
     "evalue": "That is not your piece",
     "output_type": "error",
     "traceback": [
      "\u001b[31m---------------------------------------------------------------------------\u001b[39m",
      "\u001b[31mException\u001b[39m                                 Traceback (most recent call last)",
      "\u001b[36mCell\u001b[39m\u001b[36m \u001b[39m\u001b[32mIn[4]\u001b[39m\u001b[32m, line 5\u001b[39m\n\u001b[32m      3\u001b[39m \u001b[38;5;28;01mfor\u001b[39;00m move \u001b[38;5;129;01min\u001b[39;00m moves:\n\u001b[32m      4\u001b[39m     \u001b[38;5;28mprint\u001b[39m(\u001b[33mf\u001b[39m\u001b[33m'\u001b[39m\u001b[33mmove 1: \u001b[39m\u001b[38;5;132;01m{\u001b[39;00mmove\u001b[38;5;132;01m}\u001b[39;00m\u001b[33m'\u001b[39m)\n\u001b[32m----> \u001b[39m\u001b[32m5\u001b[39m     check_team = \u001b[43mx\u001b[49m\u001b[43m.\u001b[49m\u001b[43mcheck_teams_piece\u001b[49m\u001b[43m(\u001b[49m\u001b[43mmove\u001b[49m\u001b[43m)\u001b[49m\n\u001b[32m      6\u001b[39m     \u001b[38;5;28mprint\u001b[39m(check_team)\n",
      "\u001b[36mFile \u001b[39m\u001b[32mc:\\Users\\craig\\github\\console_chess\\chess.py:33\u001b[39m, in \u001b[36mChess.check_teams_piece\u001b[39m\u001b[34m(self, current_position)\u001b[39m\n\u001b[32m     31\u001b[39m     \u001b[38;5;28;01mraise\u001b[39;00m \u001b[38;5;167;01mException\u001b[39;00m(\u001b[33m\"\u001b[39m\u001b[33mNo piece at this position\u001b[39m\u001b[33m\"\u001b[39m)\n\u001b[32m     32\u001b[39m \u001b[38;5;28;01melif\u001b[39;00m current_piece != \u001b[38;5;28mself\u001b[39m.color_turn.value:\n\u001b[32m---> \u001b[39m\u001b[32m33\u001b[39m     \u001b[38;5;28;01mraise\u001b[39;00m \u001b[38;5;167;01mException\u001b[39;00m(\u001b[33m\"\u001b[39m\u001b[33mThat is not your piece\u001b[39m\u001b[33m\"\u001b[39m)\n\u001b[32m     34\u001b[39m \u001b[38;5;28;01melse\u001b[39;00m:\n\u001b[32m     35\u001b[39m     \u001b[38;5;28;01mreturn\u001b[39;00m \u001b[38;5;28;01mTrue\u001b[39;00m\n",
      "\u001b[31mException\u001b[39m: That is not your piece"
     ]
    }
   ],
   "source": [
    "#is current team check working, one pass one fail\n",
    "moves = [(0,0),(7,7)]\n",
    "for move in moves:\n",
    "    print(f'move 1: {move}')\n",
    "    check_team = x.check_teams_piece(move)\n",
    "    print(check_team)"
   ]
  },
  {
   "cell_type": "code",
   "execution_count": 5,
   "metadata": {},
   "outputs": [
    {
     "name": "stdout",
     "output_type": "stream",
     "text": [
      "Can't capture own piece\n",
      "<chess.Chess object at 0x000001C87BEB2050>\n",
      "Path blocked\n",
      "<chess.Chess object at 0x000001C87BEB2050>\n"
     ]
    }
   ],
   "source": [
    "# is valid movement working\n",
    "# uses row/column format vs x,y\n",
    "moves = [\n",
    "    [(0,0),(0,5)], #moving to own occupied\n",
    "    [(0,0),(4,0)], #blocked path\n",
    "    ]\n",
    "for move in moves:\n",
    "    x.is_valid_move(move[0],move[1])\n",
    "    print(x)"
   ]
  },
  {
   "cell_type": "code",
   "execution_count": 6,
   "metadata": {},
   "outputs": [
    {
     "name": "stdout",
     "output_type": "stream",
     "text": [
      "white Captured (6, 0)\n",
      "\n",
      "  a b c d e f g h\n",
      "  ---------------\n",
      "8 R N B Q K B N R 8\n",
      "7 . p p p p p p p 7\n",
      "6 . . . . . . . . 6\n",
      "5 . . . . . . . . 5\n",
      "4 . . . . . . . . 4\n",
      "3 . . . . . . . . 3\n",
      "2 p p p p p p p p 2\n",
      "1 R N B Q K B N R 1\n",
      "  ---------------\n",
      "  a b c d e f g h\n",
      "\n",
      "white Captured (6, 1)\n",
      "\n",
      "  a b c d e f g h\n",
      "  ---------------\n",
      "8 R N B Q K B N R 8\n",
      "7 . . p p p p p p 7\n",
      "6 . . . . . . . . 6\n",
      "5 . . . . . . . . 5\n",
      "4 . . . . . . . . 4\n",
      "3 . . . . . . . . 3\n",
      "2 p p p p p p p p 2\n",
      "1 R N B Q K B N R 1\n",
      "  ---------------\n",
      "  a b c d e f g h\n",
      "\n"
     ]
    },
    {
     "data": {
      "text/plain": [
       "[ChessPiece(name='black_pawn_1', piece_type=<PieceType.PAWN: 'p'>, color=<PieceColor.BLACK: 'black'>, position=(6, 0), is_active=True),\n",
       " ChessPiece(name='black_pawn_2', piece_type=<PieceType.PAWN: 'p'>, color=<PieceColor.BLACK: 'black'>, position=(6, 1), is_active=True)]"
      ]
     },
     "execution_count": 6,
     "metadata": {},
     "output_type": "execute_result"
    }
   ],
   "source": [
    "#test capture and capture log\n",
    "importlib.reload(chess)\n",
    "importlib.reload(initialize_board)\n",
    "\n",
    "x = create_chess(ChessBoard(pieces=initial_pieces))\n",
    "moves = [\n",
    "    (6,0),\n",
    "    (6,1)\n",
    "]\n",
    "for move in moves:\n",
    "    x.check_capture(move)\n",
    "    x.board.display()\n",
    "x.captured_pieces"
   ]
  },
  {
   "cell_type": "code",
   "execution_count": 7,
   "metadata": {},
   "outputs": [
    {
     "name": "stdout",
     "output_type": "stream",
     "text": [
      "\n",
      "  a b c d e f g h\n",
      "  ---------------\n",
      "8 R N B Q K B N R 8\n",
      "7 p p p p p p p p 7\n",
      "6 . . . . . . . . 6\n",
      "5 . . . . . . . . 5\n",
      "4 . . . . . . . . 4\n",
      "3 . . . . . . . . 3\n",
      "2 p p p p p p p p 2\n",
      "1 R N B Q K B N R 1\n",
      "  ---------------\n",
      "  a b c d e f g h\n",
      "\n",
      "\n",
      "  a b c d e f g h\n",
      "  ---------------\n",
      "8 R N B Q K B N R 8\n",
      "7 p p p p p p p p 7\n",
      "6 . . . . . . . . 6\n",
      "5 . . . . . . . . 5\n",
      "4 . . . . . . . . 4\n",
      "3 p . . . . . . . 3\n",
      "2 . p p p p p p p 2\n",
      "1 R N B Q K B N R 1\n",
      "  ---------------\n",
      "  a b c d e f g h\n",
      "\n",
      "\n",
      "  a b c d e f g h\n",
      "  ---------------\n",
      "8 R N B Q K B N R 8\n",
      "7 p p p p p p p p 7\n",
      "6 . . . . . . . . 6\n",
      "5 . . . . . . . . 5\n",
      "4 . . . . . . . . 4\n",
      "3 p . N . . . . . 3\n",
      "2 . p p p p p p p 2\n",
      "1 R . B Q K B N R 1\n",
      "  ---------------\n",
      "  a b c d e f g h\n",
      "\n"
     ]
    }
   ],
   "source": [
    "#test update board\n",
    "importlib.reload(chess)\n",
    "importlib.reload(initialize_board)\n",
    "\n",
    "x = create_chess(ChessBoard(pieces=initial_pieces))\n",
    "x.board.display()\n",
    "moves = [\n",
    "    [(1,0),(2,0)], #test pawn\n",
    "    [(0,1),(2,2)] #test knight\n",
    "]\n",
    "for move in moves:\n",
    "    x.update_board(move[0],move[1])\n",
    "    x.board.display()"
   ]
  },
  {
   "cell_type": "code",
   "execution_count": 8,
   "metadata": {},
   "outputs": [
    {
     "name": "stdout",
     "output_type": "stream",
     "text": [
      "white moved (1, 2) to (3, 2)\n",
      "\n",
      "black moved (7, 1) to (5, 0)\n",
      "\n",
      "white moved (0, 3) to (3, 0)\n",
      "\n",
      "black moved (6, 5) to (4, 5)\n",
      "\n",
      "white Captured (5, 0)\n",
      "white moved (3, 0) to (5, 0)\n",
      "\n",
      "\n",
      "  a b c d e f g h\n",
      "  ---------------\n",
      "8 R . B Q K B N R 8\n",
      "7 p p p p p . p p 7\n",
      "6 Q . . . . . . . 6\n",
      "5 . . . . . p . . 5\n",
      "4 . . p . . . . . 4\n",
      "3 . . . . . . . . 3\n",
      "2 p p . p p p p p 2\n",
      "1 R N B . K B N R 1\n",
      "  ---------------\n",
      "  a b c d e f g h\n",
      "\n"
     ]
    },
    {
     "data": {
      "text/plain": [
       "[ChessPiece(name='black_knight_1', piece_type=<PieceType.KNIGHT: 'N'>, color=<PieceColor.BLACK: 'black'>, position=(5, 0), is_active=True)]"
      ]
     },
     "execution_count": 8,
     "metadata": {},
     "output_type": "execute_result"
    }
   ],
   "source": [
    "#test turn\n",
    "importlib.reload(chess)\n",
    "importlib.reload(initialize_board)\n",
    "\n",
    "x = create_chess(ChessBoard(pieces=initial_pieces))\n",
    "#x.board.display()\n",
    "moves = [\n",
    "    [(1,2),(3,2)], #white pawn\n",
    "    [(7,1),(5,0)], #black knight\n",
    "    [(0,3),(3,0)], #white queen\n",
    "    [(6,5),(4,5)], #black pawn\n",
    "    [(3,0),(5,0)]#queen capture\n",
    "]\n",
    "for move in moves:\n",
    "    x.take_turn(move[0],move[1])\n",
    "\n",
    "x.board.display()\n",
    "x.captured_pieces"
   ]
  },
  {
   "cell_type": "code",
   "execution_count": 9,
   "metadata": {},
   "outputs": [
    {
     "data": {
      "text/plain": [
       "[ChessPiece(name='black_knight_1', piece_type=<PieceType.KNIGHT: 'N'>, color=<PieceColor.BLACK: 'black'>, position=(5, 0), is_active=True)]"
      ]
     },
     "execution_count": 9,
     "metadata": {},
     "output_type": "execute_result"
    }
   ],
   "source": [
    "x.captured_pieces"
   ]
  },
  {
   "cell_type": "code",
   "execution_count": 10,
   "metadata": {},
   "outputs": [
    {
     "data": {
      "text/plain": [
       "[['white', (1, 2), (3, 2)],\n",
       " ['black', (7, 1), (5, 0)],\n",
       " ['white', (0, 3), (3, 0)],\n",
       " ['black', (6, 5), (4, 5)],\n",
       " ['white', (3, 0), (5, 0)]]"
      ]
     },
     "execution_count": 10,
     "metadata": {},
     "output_type": "execute_result"
    }
   ],
   "source": [
    "x.log"
   ]
  },
  {
   "cell_type": "code",
   "execution_count": 11,
   "metadata": {},
   "outputs": [
    {
     "name": "stdout",
     "output_type": "stream",
     "text": [
      "It is blacks turn to move\n"
     ]
    }
   ],
   "source": [
    "x.whos_turn_is_it()"
   ]
  },
  {
   "cell_type": "code",
   "execution_count": null,
   "metadata": {},
   "outputs": [],
   "source": []
  },
  {
   "cell_type": "code",
   "execution_count": null,
   "metadata": {},
   "outputs": [],
   "source": []
  },
  {
   "cell_type": "code",
   "execution_count": null,
   "metadata": {},
   "outputs": [],
   "source": []
  }
 ],
 "metadata": {
  "kernelspec": {
   "display_name": "fetch_venv",
   "language": "python",
   "name": "python3"
  },
  "language_info": {
   "codemirror_mode": {
    "name": "ipython",
    "version": 3
   },
   "file_extension": ".py",
   "mimetype": "text/x-python",
   "name": "python",
   "nbconvert_exporter": "python",
   "pygments_lexer": "ipython3",
   "version": "3.11.11"
  }
 },
 "nbformat": 4,
 "nbformat_minor": 2
}
